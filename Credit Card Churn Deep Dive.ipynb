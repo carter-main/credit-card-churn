{
 "cells": [
  {
   "cell_type": "code",
   "execution_count": 64,
   "id": "251af031",
   "metadata": {},
   "outputs": [],
   "source": [
    "import pandas as pd\n",
    "import numpy as np\n",
    "import seaborn as sns\n",
    "from matplotlib import pyplot as plt\n",
    "from sklearn import preprocessing\n",
    "from scipy.stats import ttest_ind\n",
    "from scipy.stats import chi2_contingency"
   ]
  },
  {
   "cell_type": "code",
   "execution_count": 65,
   "id": "a384413c",
   "metadata": {},
   "outputs": [],
   "source": [
    "# loading in dataset\n",
    "df = pd.read_csv(\"/Users/cartermain/Downloads/BankChurners.csv\")"
   ]
  },
  {
   "cell_type": "code",
   "execution_count": 66,
   "id": "0d35d3e7",
   "metadata": {
    "scrolled": true
   },
   "outputs": [
    {
     "name": "stdout",
     "output_type": "stream",
     "text": [
      "   CLIENTNUM     Attrition_Flag  Customer_Age Gender  Dependent_count  \\\n",
      "0  768805383  Existing Customer            45      M                3   \n",
      "1  818770008  Existing Customer            49      F                5   \n",
      "2  713982108  Existing Customer            51      M                3   \n",
      "\n",
      "  Education_Level Marital_Status Income_Category Card_Category  \\\n",
      "0     High School        Married     $60K - $80K          Blue   \n",
      "1        Graduate         Single  Less than $40K          Blue   \n",
      "2        Graduate        Married    $80K - $120K          Blue   \n",
      "\n",
      "   Months_on_book  ...  Months_Inactive_12_mon  Contacts_Count_12_mon  \\\n",
      "0              39  ...                       1                      3   \n",
      "1              44  ...                       1                      2   \n",
      "2              36  ...                       1                      0   \n",
      "\n",
      "   Credit_Limit  Total_Revolving_Bal  Avg_Open_To_Buy  Total_Amt_Chng_Q4_Q1  \\\n",
      "0       12691.0                  777          11914.0                 1.335   \n",
      "1        8256.0                  864           7392.0                 1.541   \n",
      "2        3418.0                    0           3418.0                 2.594   \n",
      "\n",
      "   Total_Trans_Amt  Total_Trans_Ct  Total_Ct_Chng_Q4_Q1  Avg_Utilization_Ratio  \n",
      "0             1144              42                1.625                  0.061  \n",
      "1             1291              33                3.714                  0.105  \n",
      "2             1887              20                2.333                  0.000  \n",
      "\n",
      "[3 rows x 21 columns]\n"
     ]
    }
   ],
   "source": [
    "# getting familiar with dataset\n",
    "print(df.head(3))"
   ]
  },
  {
   "cell_type": "code",
   "execution_count": 67,
   "id": "bbef2314",
   "metadata": {
    "scrolled": false
   },
   "outputs": [
    {
     "name": "stdout",
     "output_type": "stream",
     "text": [
      "CLIENTNUM                   0\n",
      "Attrition_Flag              0\n",
      "Customer_Age                0\n",
      "Gender                      0\n",
      "Dependent_count             0\n",
      "Education_Level             0\n",
      "Marital_Status              0\n",
      "Income_Category             0\n",
      "Card_Category               0\n",
      "Months_on_book              0\n",
      "Total_Relationship_Count    0\n",
      "Months_Inactive_12_mon      0\n",
      "Contacts_Count_12_mon       0\n",
      "Credit_Limit                0\n",
      "Total_Revolving_Bal         0\n",
      "Avg_Open_To_Buy             0\n",
      "Total_Amt_Chng_Q4_Q1        0\n",
      "Total_Trans_Amt             0\n",
      "Total_Trans_Ct              0\n",
      "Total_Ct_Chng_Q4_Q1         0\n",
      "Avg_Utilization_Ratio       0\n",
      "dtype: int64\n"
     ]
    }
   ],
   "source": [
    "# counting null values\n",
    "print(df.isnull().sum())"
   ]
  },
  {
   "cell_type": "markdown",
   "id": "bb4e6b9c",
   "metadata": {},
   "source": [
    "First, we'll check the correlation each feature has with credit card churn"
   ]
  },
  {
   "cell_type": "code",
   "execution_count": 68,
   "id": "f9e16053",
   "metadata": {},
   "outputs": [],
   "source": [
    "# running a for loop to turn object dtype columns into numeric columns and keeping record of column names to drop \n",
    "le = preprocessing.LabelEncoder()\n",
    "droppable_columns = []\n",
    "for column in df.columns:\n",
    "    if df[column].dtype == \"object\":\n",
    "        df[column + \"_int\"] = le.fit_transform(df[column])\n",
    "        droppable_columns.append(column)\n",
    "    else:\n",
    "        continue"
   ]
  },
  {
   "cell_type": "code",
   "execution_count": 69,
   "id": "9c3b5d3b",
   "metadata": {},
   "outputs": [],
   "source": [
    "# creating new dataframe with int and float dtypes exclusively to run correlation\n",
    "numeric_df = df.drop(columns = droppable_columns)\n",
    "numeric_df = numeric_df.drop(columns = \"CLIENTNUM\")"
   ]
  },
  {
   "cell_type": "code",
   "execution_count": 70,
   "id": "8b7b88b2",
   "metadata": {},
   "outputs": [
    {
     "name": "stdout",
     "output_type": "stream",
     "text": [
      "Attrition_Flag_int          1.000000\n",
      "Total_Trans_Ct              0.371403\n",
      "Total_Ct_Chng_Q4_Q1         0.290054\n",
      "Total_Revolving_Bal         0.263053\n",
      "Avg_Utilization_Ratio       0.178410\n",
      "Total_Trans_Amt             0.168598\n",
      "Total_Relationship_Count    0.150005\n",
      "Total_Amt_Chng_Q4_Q1        0.131063\n",
      "Gender_int                  0.037272\n",
      "Credit_Limit                0.023873\n",
      "Card_Category_int           0.006038\n",
      "Avg_Open_To_Buy             0.000285\n",
      "Education_Level_int        -0.005551\n",
      "Months_on_book             -0.013687\n",
      "Income_Category_int        -0.017584\n",
      "Customer_Age               -0.018203\n",
      "Marital_Status_int         -0.018597\n",
      "Dependent_count            -0.018991\n",
      "Months_Inactive_12_mon     -0.152449\n",
      "Contacts_Count_12_mon      -0.204491\n",
      "Name: Attrition_Flag_int, dtype: float64\n"
     ]
    }
   ],
   "source": [
    "# running correlation for churn on numeric-only dataframe with sorted values from high to low\n",
    "print(numeric_df.corr()[\"Attrition_Flag_int\"].sort_values(ascending = False))"
   ]
  },
  {
   "cell_type": "markdown",
   "id": "433d10d2",
   "metadata": {},
   "source": [
    "Nothing has an incredibly signficant correlation, let's check average for each feature grouped by churned status"
   ]
  },
  {
   "cell_type": "code",
   "execution_count": 71,
   "id": "1b3c1009",
   "metadata": {},
   "outputs": [
    {
     "name": "stdout",
     "output_type": "stream",
     "text": [
      "Churned customer averages\n",
      "Customer_Age                  46.0\n",
      "Dependent_count                2.0\n",
      "Months_on_book                36.0\n",
      "Total_Relationship_Count       4.0\n",
      "Months_Inactive_12_mon         2.0\n",
      "Contacts_Count_12_mon          2.0\n",
      "Credit_Limit                8727.0\n",
      "Total_Revolving_Bal         1257.0\n",
      "Avg_Open_To_Buy             7470.0\n",
      "Total_Amt_Chng_Q4_Q1           1.0\n",
      "Total_Trans_Amt             4655.0\n",
      "Total_Trans_Ct                69.0\n",
      "Total_Ct_Chng_Q4_Q1            1.0\n",
      "Avg_Utilization_Ratio          0.0\n",
      "Attrition_Flag_int             1.0\n",
      "Gender_int                     0.0\n",
      "Education_Level_int            3.0\n",
      "Marital_Status_int             1.0\n",
      "Income_Category_int            3.0\n",
      "Card_Category_int              0.0\n",
      "dtype: float64\n",
      "\n",
      "Current customer averages\n",
      "Customer_Age                  47.0\n",
      "Dependent_count                2.0\n",
      "Months_on_book                36.0\n",
      "Total_Relationship_Count       3.0\n",
      "Months_Inactive_12_mon         3.0\n",
      "Contacts_Count_12_mon          3.0\n",
      "Credit_Limit                8136.0\n",
      "Total_Revolving_Bal          673.0\n",
      "Avg_Open_To_Buy             7463.0\n",
      "Total_Amt_Chng_Q4_Q1           1.0\n",
      "Total_Trans_Amt             3095.0\n",
      "Total_Trans_Ct                45.0\n",
      "Total_Ct_Chng_Q4_Q1            1.0\n",
      "Avg_Utilization_Ratio          0.0\n",
      "Attrition_Flag_int             0.0\n",
      "Gender_int                     0.0\n",
      "Education_Level_int            3.0\n",
      "Marital_Status_int             1.0\n",
      "Income_Category_int            3.0\n",
      "Card_Category_int              0.0\n",
      "dtype: float64\n"
     ]
    }
   ],
   "source": [
    "# printing mean value for each feature for churned and existing customers\n",
    "print(\"Churned customer averages\")\n",
    "print(round(numeric_df.loc[df[\"Attrition_Flag_int\"] == 1].mean(),0))\n",
    "print(\"\")\n",
    "print(\"Current customer averages\")\n",
    "print(round(numeric_df.loc[df[\"Attrition_Flag_int\"] == 0].mean(),0))"
   ]
  },
  {
   "cell_type": "markdown",
   "id": "fccc0049",
   "metadata": {},
   "source": [
    "Let's find the features with the biggest difference in mean between churned and active customers"
   ]
  },
  {
   "cell_type": "code",
   "execution_count": 72,
   "id": "c5b2d64a",
   "metadata": {},
   "outputs": [
    {
     "name": "stdout",
     "output_type": "stream",
     "text": [
      "Total_Revolving_Bal         87.0\n",
      "Avg_Utilization_Ratio       82.0\n",
      "Total_Trans_Ct              53.0\n",
      "Total_Trans_Amt             50.0\n",
      "Total_Ct_Chng_Q4_Q1         34.0\n",
      "Contacts_Count_12_mon       21.0\n",
      "Total_Relationship_Count    19.0\n",
      "Months_Inactive_12_mon      16.0\n",
      "Gender_int                  12.0\n",
      "Total_Amt_Chng_Q4_Q1        11.0\n",
      "Card_Category_int            7.0\n",
      "Credit_Limit                 7.0\n",
      "Dependent_count              3.0\n",
      "Marital_Status_int           2.0\n",
      "Income_Category_int          2.0\n",
      "Months_on_book               1.0\n",
      "Education_Level_int          1.0\n",
      "Customer_Age                 1.0\n",
      "Avg_Open_To_Buy              0.0\n",
      "Name: Delta, dtype: float64\n"
     ]
    }
   ],
   "source": [
    "# adding the delta between feature means into a dataframe with sorted absolute values to check largest deltas\n",
    "df_columns = []\n",
    "df_deltas = []\n",
    "for feature in numeric_df.columns:\n",
    "    if feature == \"Attrition_Flag_int\" or feature == \"CLIENTNUM\":\n",
    "        continue\n",
    "    else:\n",
    "        delta = (df[feature][df[\"Attrition_Flag_int\"] == 1].mean() - df[feature][df[\"Attrition_Flag_int\"] == 0].mean()) / df[feature][df[\"Attrition_Flag_int\"] == 0].mean()\n",
    "        df_columns.append(feature)\n",
    "        df_deltas.append(round(abs(delta),2) * 100)\n",
    "deltas_df = pd.DataFrame(columns = [\"Delta\"], index = df_columns, data = df_deltas)\n",
    "print(deltas_df[\"Delta\"].sort_values(ascending = False))"
   ]
  },
  {
   "cell_type": "markdown",
   "id": "6499f078",
   "metadata": {},
   "source": [
    "This order makes sense given people churning will be using their card infrequently leading up to their churn. Now let's find out which of these differences we would have a chance of observing at random via Chi-Square and Two-Sample T-Tests"
   ]
  },
  {
   "cell_type": "code",
   "execution_count": 73,
   "id": "4669e553",
   "metadata": {},
   "outputs": [
    {
     "name": "stdout",
     "output_type": "stream",
     "text": [
      "Customer_Age: insignificant\n",
      "Dependent_count: insignificant\n",
      "Months_on_book: insignificant\n",
      "Total_Relationship_Count: signficant\n",
      "Months_Inactive_12_mon: signficant\n",
      "Contacts_Count_12_mon: signficant\n",
      "Credit_Limit: signficant\n",
      "Total_Revolving_Bal: signficant\n",
      "Avg_Open_To_Buy: insignificant\n",
      "Total_Amt_Chng_Q4_Q1: signficant\n",
      "Total_Trans_Amt: signficant\n",
      "Total_Trans_Ct: signficant\n",
      "Total_Ct_Chng_Q4_Q1: signficant\n",
      "Avg_Utilization_Ratio: signficant\n",
      "Gender_int: significant\n",
      "Education_Level_int: insignificant\n",
      "Marital_Status_int: insignificant\n",
      "Income_Category_int: significant\n",
      "Card_Category_int: insignificant\n"
     ]
    }
   ],
   "source": [
    "significant = []\n",
    "insignificant = []\n",
    "for feature in numeric_df.columns:\n",
    "    if feature == \"CLIENTNUM\" or feature == \"Attrition_Flag_int\":\n",
    "        continue\n",
    "    elif \"_int\" in feature:\n",
    "        #chi square\n",
    "        table = pd.crosstab(df[\"Attrition_Flag_int\"], df[feature])\n",
    "        chi2, pval, dof, expected = chi2_contingency(table)\n",
    "        if pval < 0.05:\n",
    "            print(feature + \": significant\")\n",
    "            significant.append(feature)\n",
    "        else:\n",
    "            print(feature + \": insignificant\")\n",
    "            insignificant.append(feature)\n",
    "    else:\n",
    "        #two-sample t-test\n",
    "        a = df[feature][df[\"Attrition_Flag_int\"] == 1]\n",
    "        b = df[feature][df[\"Attrition_Flag_int\"] == 0]\n",
    "        tstat, pval = ttest_ind(a, b)\n",
    "        if pval < 0.05:\n",
    "            print(feature + \": signficant\")\n",
    "            significant.append(feature)\n",
    "        else:\n",
    "            print(feature + \": insignificant\")\n",
    "            insignificant.append(feature)"
   ]
  },
  {
   "cell_type": "markdown",
   "id": "70922d20",
   "metadata": {},
   "source": [
    "Let's find the average age at which people sign up as cardholders by subtracting their age by number of months they have been on the books"
   ]
  },
  {
   "cell_type": "code",
   "execution_count": 74,
   "id": "f44c1fea",
   "metadata": {},
   "outputs": [],
   "source": [
    "df[\"signup_age\"] = df[\"Customer_Age\"] - round(df[\"Months_on_book\"] / 12,0)"
   ]
  },
  {
   "cell_type": "code",
   "execution_count": 75,
   "id": "debf6f33",
   "metadata": {},
   "outputs": [
    {
     "name": "stdout",
     "output_type": "stream",
     "text": [
      "The average age at which people open an account is 43.0\n"
     ]
    }
   ],
   "source": [
    "print(\"The average age at which people open an account is \" + str(round(df[\"signup_age\"].mean(),0)))"
   ]
  },
  {
   "cell_type": "markdown",
   "id": "3ee0b06d",
   "metadata": {},
   "source": [
    "Lastly, let's find the breakdown of card category by income level"
   ]
  },
  {
   "cell_type": "code",
   "execution_count": 76,
   "id": "51084030",
   "metadata": {},
   "outputs": [
    {
     "name": "stdout",
     "output_type": "stream",
     "text": [
      "Card_Category_int\n",
      "0    2.887134\n",
      "2    2.800000\n",
      "3    2.571171\n",
      "1    2.387931\n",
      "Name: Income_Category_int, dtype: float64\n",
      "\n",
      "Card_Category_int       0   1  2    3\n",
      "Income_Category_int                  \n",
      "0                     645  18  4   60\n",
      "1                    1675  15  1   99\n",
      "2                    1273  29  4   96\n",
      "3                    1395  21  2  117\n",
      "4                    3403  24  4  130\n",
      "5                    1045   9  5   53\n"
     ]
    }
   ],
   "source": [
    "print(df[\"Income_Category_int\"].groupby(df[\"Card_Category_int\"]).mean().sort_values(ascending = False))\n",
    "print(\"\")\n",
    "income_category_crosstab = pd.crosstab(df[\"Income_Category_int\"], df[\"Card_Category_int\"])\n",
    "print(income_category_crosstab)"
   ]
  },
  {
   "cell_type": "code",
   "execution_count": 77,
   "id": "3ff486b4",
   "metadata": {},
   "outputs": [
    {
     "name": "stdout",
     "output_type": "stream",
     "text": [
      "1.2106873689789959e-14\n"
     ]
    }
   ],
   "source": [
    "chi2, pval, dof, expected = chi2_contingency(income_category_crosstab)\n",
    "print(pval)"
   ]
  },
  {
   "cell_type": "markdown",
   "id": "ed5702eb",
   "metadata": {},
   "source": [
    "There is a signficant difference in income level and card category as exemplified by the crosstab and mean income category above"
   ]
  }
 ],
 "metadata": {
  "kernelspec": {
   "display_name": "Python 3 (ipykernel)",
   "language": "python",
   "name": "python3"
  },
  "language_info": {
   "codemirror_mode": {
    "name": "ipython",
    "version": 3
   },
   "file_extension": ".py",
   "mimetype": "text/x-python",
   "name": "python",
   "nbconvert_exporter": "python",
   "pygments_lexer": "ipython3",
   "version": "3.9.7"
  }
 },
 "nbformat": 4,
 "nbformat_minor": 5
}
